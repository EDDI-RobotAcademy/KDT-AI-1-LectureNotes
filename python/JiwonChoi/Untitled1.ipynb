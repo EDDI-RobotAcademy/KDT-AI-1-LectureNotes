{
 "cells": [
  {
   "cell_type": "code",
   "execution_count": 4,
   "id": "75c39c30",
   "metadata": {},
   "outputs": [],
   "source": [
    "import pickle\n",
    "\n",
    "NAVER_USER_DATA_SAVED_FILE = \"naver/account\"\n",
    "\n",
    "naver_user_info = dict({\n",
    "    \"smpt_user_id\": \"choijw0824@naver.com\",\n",
    "    \"smtp_user_pw\": \"cho#081014#\",\n",
    "})\n",
    "\n",
    "f = open(NAVER_USER_DATA_SAVED_FILE, \"wb\")\n",
    "pickle.dump(naver_user_info, f)\n",
    "f.close()"
   ]
  },
  {
   "cell_type": "code",
   "execution_count": null,
   "id": "199d8734",
   "metadata": {},
   "outputs": [],
   "source": []
  },
  {
   "cell_type": "code",
   "execution_count": null,
   "id": "2f1db23f",
   "metadata": {},
   "outputs": [],
   "source": []
  }
 ],
 "metadata": {
  "kernelspec": {
   "display_name": "Python 3 (ipykernel)",
   "language": "python",
   "name": "python3"
  },
  "language_info": {
   "codemirror_mode": {
    "name": "ipython",
    "version": 3
   },
   "file_extension": ".py",
   "mimetype": "text/x-python",
   "name": "python",
   "nbconvert_exporter": "python",
   "pygments_lexer": "ipython3",
   "version": "3.9.13"
  }
 },
 "nbformat": 4,
 "nbformat_minor": 5
}
