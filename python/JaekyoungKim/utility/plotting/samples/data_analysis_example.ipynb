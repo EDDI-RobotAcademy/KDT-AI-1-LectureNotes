{
 "cells": [
  {
   "cell_type": "code",
   "execution_count": 3,
   "id": "7704b0c8",
   "metadata": {},
   "outputs": [
    {
     "name": "stdout",
     "output_type": "stream",
     "text": [
      "   Unnamed: 0   PRE_LMT  PRE_RT  GOODS_CD  RRC_CD  HAC_CD  LU0024101  \\\n",
      "0           2  12000000    7.21    760143      17       1      34000   \n",
      "1           5  13000000    6.21    760143      20       1      12397   \n",
      "2           8   9000000    6.32    760143      18       1      84889   \n",
      "3           9  11000000    6.84    760143      17       1      17816   \n",
      "4          10  13000000    6.24    760143      17       1      39211   \n",
      "5          11  11000000    6.68    760143      17       1      70000   \n",
      "6          12  15000000    6.93    760143      17       1      38700   \n",
      "7          13  12000000    6.22    760143      13       1      28961   \n",
      "8          14  12000000    6.75    760143      18       1       8617   \n",
      "9          16  12000000    6.31    760143      16       1      47914   \n",
      "\n",
      "   LU0024201  LS0000180  CL0631905  CL0631906  L2A000105  L00080002  \\\n",
      "0          2          7         19          0        937          0   \n",
      "1          4         56         33          0        141          0   \n",
      "2          8         31         27         25       1367       4807   \n",
      "3          2          2          6          0        122      13079   \n",
      "4          2         73         67         96       1562      23013   \n",
      "5          4          4         45         34          7          0   \n",
      "6          2          4         27          0        494          0   \n",
      "7          5         56         28          0        582       5000   \n",
      "8          1        490         13          0       1054          0   \n",
      "9          9         99         54          0        877      15371   \n",
      "\n",
      "   LA6000005  L22001800  L22002000  SALE_TRM  LC0099024  LA1200018  \n",
      "0        100          0          0        60        -35        100  \n",
      "1        100       7050      12397        60          7         42  \n",
      "2         83       9607      28792        60         63         41  \n",
      "3        100       4737       4737        60         76         90  \n",
      "4         65          0          0        60         11         37  \n",
      "5         85          0       7000        60        -12         54  \n",
      "6        100          0          0        60          4         75  \n",
      "7        100       2417      18381        60        -34         79  \n",
      "8        100          0       8617        60        -18         96  \n",
      "9        100       9865      37914        60         -7         58  \n",
      "<bound method DataFrame.value_counts of      Unnamed: 0   PRE_LMT  PRE_RT  GOODS_CD  RRC_CD  HAC_CD  LU0024101  \\\n",
      "0             2  12000000    7.21    760143      17       1      34000   \n",
      "1             5  13000000    6.21    760143      20       1      12397   \n",
      "2             8   9000000    6.32    760143      18       1      84889   \n",
      "3             9  11000000    6.84    760143      17       1      17816   \n",
      "4            10  13000000    6.24    760143      17       1      39211   \n",
      "..          ...       ...     ...       ...     ...     ...        ...   \n",
      "284         734  10000000    6.87    760143      17       1       2992   \n",
      "285         735   7000000    6.41    760143      17       1      60800   \n",
      "286         740  10000000    6.36    760143      17       1          0   \n",
      "287         741  11000000    6.84    760143      17       1          0   \n",
      "288         742   9000000    7.31    760143      17       1          0   \n",
      "\n",
      "     LU0024201  LS0000180  CL0631905  CL0631906  L2A000105  L00080002  \\\n",
      "0            2          7         19          0        937          0   \n",
      "1            4         56         33          0        141          0   \n",
      "2            8         31         27         25       1367       4807   \n",
      "3            2          2          6          0        122      13079   \n",
      "4            2         73         67         96       1562      23013   \n",
      "..         ...        ...        ...        ...        ...        ...   \n",
      "284          1         39         20          0        147          0   \n",
      "285          2         11         29          0        272          0   \n",
      "286          0        187         74          9        540          0   \n",
      "287          0          2         33          2        288          0   \n",
      "288          0        106         40          0        106          0   \n",
      "\n",
      "     LA6000005  L22001800  L22002000  SALE_TRM  LC0099024  LA1200018  \n",
      "0          100          0          0        60        -35        100  \n",
      "1          100       7050      12397        60          7         42  \n",
      "2           83       9607      28792        60         63         41  \n",
      "3          100       4737       4737        60         76         90  \n",
      "4           65          0          0        60         11         37  \n",
      "..         ...        ...        ...       ...        ...        ...  \n",
      "284        100       2992       2992        60         22        100  \n",
      "285        100          0          0        60        -15         72  \n",
      "286         69          0          0        60         52         59  \n",
      "287         90          0          0        60        184         69  \n",
      "288        100          0          0        36        403         98  \n",
      "\n",
      "[289 rows x 19 columns]>\n"
     ]
    },
    {
     "data": {
      "text/html": [
       "<div>\n",
       "<style scoped>\n",
       "    .dataframe tbody tr th:only-of-type {\n",
       "        vertical-align: middle;\n",
       "    }\n",
       "\n",
       "    .dataframe tbody tr th {\n",
       "        vertical-align: top;\n",
       "    }\n",
       "\n",
       "    .dataframe thead th {\n",
       "        text-align: right;\n",
       "    }\n",
       "</style>\n",
       "<table border=\"1\" class=\"dataframe\">\n",
       "  <thead>\n",
       "    <tr style=\"text-align: right;\">\n",
       "      <th></th>\n",
       "      <th>Unnamed: 0</th>\n",
       "      <th>PRE_LMT</th>\n",
       "      <th>PRE_RT</th>\n",
       "      <th>GOODS_CD</th>\n",
       "      <th>RRC_CD</th>\n",
       "      <th>HAC_CD</th>\n",
       "      <th>LU0024101</th>\n",
       "      <th>LU0024201</th>\n",
       "      <th>LS0000180</th>\n",
       "      <th>CL0631905</th>\n",
       "      <th>CL0631906</th>\n",
       "      <th>L2A000105</th>\n",
       "      <th>L00080002</th>\n",
       "      <th>LA6000005</th>\n",
       "      <th>L22001800</th>\n",
       "      <th>L22002000</th>\n",
       "      <th>SALE_TRM</th>\n",
       "      <th>LC0099024</th>\n",
       "      <th>LA1200018</th>\n",
       "    </tr>\n",
       "  </thead>\n",
       "  <tbody>\n",
       "    <tr>\n",
       "      <th>0</th>\n",
       "      <td>2</td>\n",
       "      <td>12000000</td>\n",
       "      <td>7.21</td>\n",
       "      <td>760143</td>\n",
       "      <td>17</td>\n",
       "      <td>1</td>\n",
       "      <td>34000</td>\n",
       "      <td>2</td>\n",
       "      <td>7</td>\n",
       "      <td>19</td>\n",
       "      <td>0</td>\n",
       "      <td>937</td>\n",
       "      <td>0</td>\n",
       "      <td>100</td>\n",
       "      <td>0</td>\n",
       "      <td>0</td>\n",
       "      <td>60</td>\n",
       "      <td>-35</td>\n",
       "      <td>100</td>\n",
       "    </tr>\n",
       "    <tr>\n",
       "      <th>1</th>\n",
       "      <td>5</td>\n",
       "      <td>13000000</td>\n",
       "      <td>6.21</td>\n",
       "      <td>760143</td>\n",
       "      <td>20</td>\n",
       "      <td>1</td>\n",
       "      <td>12397</td>\n",
       "      <td>4</td>\n",
       "      <td>56</td>\n",
       "      <td>33</td>\n",
       "      <td>0</td>\n",
       "      <td>141</td>\n",
       "      <td>0</td>\n",
       "      <td>100</td>\n",
       "      <td>7050</td>\n",
       "      <td>12397</td>\n",
       "      <td>60</td>\n",
       "      <td>7</td>\n",
       "      <td>42</td>\n",
       "    </tr>\n",
       "    <tr>\n",
       "      <th>2</th>\n",
       "      <td>8</td>\n",
       "      <td>9000000</td>\n",
       "      <td>6.32</td>\n",
       "      <td>760143</td>\n",
       "      <td>18</td>\n",
       "      <td>1</td>\n",
       "      <td>84889</td>\n",
       "      <td>8</td>\n",
       "      <td>31</td>\n",
       "      <td>27</td>\n",
       "      <td>25</td>\n",
       "      <td>1367</td>\n",
       "      <td>4807</td>\n",
       "      <td>83</td>\n",
       "      <td>9607</td>\n",
       "      <td>28792</td>\n",
       "      <td>60</td>\n",
       "      <td>63</td>\n",
       "      <td>41</td>\n",
       "    </tr>\n",
       "    <tr>\n",
       "      <th>3</th>\n",
       "      <td>9</td>\n",
       "      <td>11000000</td>\n",
       "      <td>6.84</td>\n",
       "      <td>760143</td>\n",
       "      <td>17</td>\n",
       "      <td>1</td>\n",
       "      <td>17816</td>\n",
       "      <td>2</td>\n",
       "      <td>2</td>\n",
       "      <td>6</td>\n",
       "      <td>0</td>\n",
       "      <td>122</td>\n",
       "      <td>13079</td>\n",
       "      <td>100</td>\n",
       "      <td>4737</td>\n",
       "      <td>4737</td>\n",
       "      <td>60</td>\n",
       "      <td>76</td>\n",
       "      <td>90</td>\n",
       "    </tr>\n",
       "    <tr>\n",
       "      <th>4</th>\n",
       "      <td>10</td>\n",
       "      <td>13000000</td>\n",
       "      <td>6.24</td>\n",
       "      <td>760143</td>\n",
       "      <td>17</td>\n",
       "      <td>1</td>\n",
       "      <td>39211</td>\n",
       "      <td>2</td>\n",
       "      <td>73</td>\n",
       "      <td>67</td>\n",
       "      <td>96</td>\n",
       "      <td>1562</td>\n",
       "      <td>23013</td>\n",
       "      <td>65</td>\n",
       "      <td>0</td>\n",
       "      <td>0</td>\n",
       "      <td>60</td>\n",
       "      <td>11</td>\n",
       "      <td>37</td>\n",
       "    </tr>\n",
       "    <tr>\n",
       "      <th>5</th>\n",
       "      <td>11</td>\n",
       "      <td>11000000</td>\n",
       "      <td>6.68</td>\n",
       "      <td>760143</td>\n",
       "      <td>17</td>\n",
       "      <td>1</td>\n",
       "      <td>70000</td>\n",
       "      <td>4</td>\n",
       "      <td>4</td>\n",
       "      <td>45</td>\n",
       "      <td>34</td>\n",
       "      <td>7</td>\n",
       "      <td>0</td>\n",
       "      <td>85</td>\n",
       "      <td>0</td>\n",
       "      <td>7000</td>\n",
       "      <td>60</td>\n",
       "      <td>-12</td>\n",
       "      <td>54</td>\n",
       "    </tr>\n",
       "    <tr>\n",
       "      <th>6</th>\n",
       "      <td>12</td>\n",
       "      <td>15000000</td>\n",
       "      <td>6.93</td>\n",
       "      <td>760143</td>\n",
       "      <td>17</td>\n",
       "      <td>1</td>\n",
       "      <td>38700</td>\n",
       "      <td>2</td>\n",
       "      <td>4</td>\n",
       "      <td>27</td>\n",
       "      <td>0</td>\n",
       "      <td>494</td>\n",
       "      <td>0</td>\n",
       "      <td>100</td>\n",
       "      <td>0</td>\n",
       "      <td>0</td>\n",
       "      <td>60</td>\n",
       "      <td>4</td>\n",
       "      <td>75</td>\n",
       "    </tr>\n",
       "    <tr>\n",
       "      <th>7</th>\n",
       "      <td>13</td>\n",
       "      <td>12000000</td>\n",
       "      <td>6.22</td>\n",
       "      <td>760143</td>\n",
       "      <td>13</td>\n",
       "      <td>1</td>\n",
       "      <td>28961</td>\n",
       "      <td>5</td>\n",
       "      <td>56</td>\n",
       "      <td>28</td>\n",
       "      <td>0</td>\n",
       "      <td>582</td>\n",
       "      <td>5000</td>\n",
       "      <td>100</td>\n",
       "      <td>2417</td>\n",
       "      <td>18381</td>\n",
       "      <td>60</td>\n",
       "      <td>-34</td>\n",
       "      <td>79</td>\n",
       "    </tr>\n",
       "    <tr>\n",
       "      <th>8</th>\n",
       "      <td>14</td>\n",
       "      <td>12000000</td>\n",
       "      <td>6.75</td>\n",
       "      <td>760143</td>\n",
       "      <td>18</td>\n",
       "      <td>1</td>\n",
       "      <td>8617</td>\n",
       "      <td>1</td>\n",
       "      <td>490</td>\n",
       "      <td>13</td>\n",
       "      <td>0</td>\n",
       "      <td>1054</td>\n",
       "      <td>0</td>\n",
       "      <td>100</td>\n",
       "      <td>0</td>\n",
       "      <td>8617</td>\n",
       "      <td>60</td>\n",
       "      <td>-18</td>\n",
       "      <td>96</td>\n",
       "    </tr>\n",
       "    <tr>\n",
       "      <th>9</th>\n",
       "      <td>16</td>\n",
       "      <td>12000000</td>\n",
       "      <td>6.31</td>\n",
       "      <td>760143</td>\n",
       "      <td>16</td>\n",
       "      <td>1</td>\n",
       "      <td>47914</td>\n",
       "      <td>9</td>\n",
       "      <td>99</td>\n",
       "      <td>54</td>\n",
       "      <td>0</td>\n",
       "      <td>877</td>\n",
       "      <td>15371</td>\n",
       "      <td>100</td>\n",
       "      <td>9865</td>\n",
       "      <td>37914</td>\n",
       "      <td>60</td>\n",
       "      <td>-7</td>\n",
       "      <td>58</td>\n",
       "    </tr>\n",
       "  </tbody>\n",
       "</table>\n",
       "</div>"
      ],
      "text/plain": [
       "   Unnamed: 0   PRE_LMT  PRE_RT  GOODS_CD  RRC_CD  HAC_CD  LU0024101  \\\n",
       "0           2  12000000    7.21    760143      17       1      34000   \n",
       "1           5  13000000    6.21    760143      20       1      12397   \n",
       "2           8   9000000    6.32    760143      18       1      84889   \n",
       "3           9  11000000    6.84    760143      17       1      17816   \n",
       "4          10  13000000    6.24    760143      17       1      39211   \n",
       "5          11  11000000    6.68    760143      17       1      70000   \n",
       "6          12  15000000    6.93    760143      17       1      38700   \n",
       "7          13  12000000    6.22    760143      13       1      28961   \n",
       "8          14  12000000    6.75    760143      18       1       8617   \n",
       "9          16  12000000    6.31    760143      16       1      47914   \n",
       "\n",
       "   LU0024201  LS0000180  CL0631905  CL0631906  L2A000105  L00080002  \\\n",
       "0          2          7         19          0        937          0   \n",
       "1          4         56         33          0        141          0   \n",
       "2          8         31         27         25       1367       4807   \n",
       "3          2          2          6          0        122      13079   \n",
       "4          2         73         67         96       1562      23013   \n",
       "5          4          4         45         34          7          0   \n",
       "6          2          4         27          0        494          0   \n",
       "7          5         56         28          0        582       5000   \n",
       "8          1        490         13          0       1054          0   \n",
       "9          9         99         54          0        877      15371   \n",
       "\n",
       "   LA6000005  L22001800  L22002000  SALE_TRM  LC0099024  LA1200018  \n",
       "0        100          0          0        60        -35        100  \n",
       "1        100       7050      12397        60          7         42  \n",
       "2         83       9607      28792        60         63         41  \n",
       "3        100       4737       4737        60         76         90  \n",
       "4         65          0          0        60         11         37  \n",
       "5         85          0       7000        60        -12         54  \n",
       "6        100          0          0        60          4         75  \n",
       "7        100       2417      18381        60        -34         79  \n",
       "8        100          0       8617        60        -18         96  \n",
       "9        100       9865      37914        60         -7         58  "
      ]
     },
     "execution_count": 3,
     "metadata": {},
     "output_type": "execute_result"
    }
   ],
   "source": [
    "import pandas as pd\n",
    "import matplotlib \n",
    "\n",
    "온라인_햇살론_고객정보= pd.read_excel('../../../온라인햇살론_분석정보.xlsx')\n",
    "\n",
    "print(온라인_햇살론_고객정보.head(10))\n",
    "\n",
    "\n",
    "columns_to_keep = ['PRE_LMT', 'PRE_RT', 'GOODS_CD', 'RRC_CD', 'HAC_CD', 'LU0024101', 'LU0024201',\n",
    "                   'LS0000180', 'CL0631905', 'CL0631906', 'L2A000105', 'L00080002',\n",
    "                   'LA6000005', 'L22001800', 'L22002000', 'SALE_TRM',\n",
    "                   'LC0099024',\n",
    "                   'LA1200018']\n",
    "\n",
    "print(온라인_햇살론_고객정보.value_counts)\n",
    "\n",
    "온라인_햇살론_고객정보.head(10)\n",
    "\n",
    "\n"
   ]
  },
  {
   "cell_type": "code",
   "execution_count": 28,
   "id": "3115f25f",
   "metadata": {},
   "outputs": [],
   "source": [
    "from sklearn.model_selection import train_test_split\n",
    "# test_size는 전체 데이터 집합의 몇 %를\n",
    "# 실제 비교 데이터 및 테스트 데이터로 분할할 것인가를 결정함\n",
    "# 테스트에 20%를 사용한다는 뜻임\n",
    "# random_state의 경우엔 재현율인데 보편적으로 42를 많이 사용함\n",
    "X_train, X_test, y_train, y_test = train_test_split(\n",
    "    X, y, test_size=0.2, random_state=42)"
   ]
  },
  {
   "cell_type": "code",
   "execution_count": 29,
   "id": "95de3ae6",
   "metadata": {},
   "outputs": [
    {
     "name": "stdout",
     "output_type": "stream",
     "text": [
      "X_train shape: (231, 4)\n",
      "X_test shape: (58, 4)\n",
      "y_train shape: (231,)\n",
      "y_test shape: (58,)\n"
     ]
    }
   ],
   "source": [
    "print(f'X_train shape: {X_train.shape}')\n",
    "print(f'X_test shape: {X_test.shape}')\n",
    "print(f'y_train shape: {y_train.shape}')\n",
    "print(f'y_test shape: {y_test.shape}')"
   ]
  },
  {
   "cell_type": "code",
   "execution_count": 30,
   "id": "fa94b507",
   "metadata": {},
   "outputs": [],
   "source": [
    "from sklearn.linear_model import LogisticRegression\n",
    "# y = 1 / (1 + e^-x)\n",
    "model = LogisticRegression(random_state = 42)"
   ]
  },
  {
   "cell_type": "code",
   "execution_count": 31,
   "id": "e9747c98",
   "metadata": {},
   "outputs": [
    {
     "name": "stderr",
     "output_type": "stream",
     "text": [
      "C:\\Users\\jaekk\\anaconda3\\lib\\site-packages\\sklearn\\linear_model\\_logistic.py:814: ConvergenceWarning: lbfgs failed to converge (status=1):\n",
      "STOP: TOTAL NO. of ITERATIONS REACHED LIMIT.\n",
      "\n",
      "Increase the number of iterations (max_iter) or scale the data as shown in:\n",
      "    https://scikit-learn.org/stable/modules/preprocessing.html\n",
      "Please also refer to the documentation for alternative solver options:\n",
      "    https://scikit-learn.org/stable/modules/linear_model.html#logistic-regression\n",
      "  n_iter_i = _check_optimize_result(\n"
     ]
    },
    {
     "data": {
      "text/plain": [
       "LogisticRegression(random_state=42)"
      ]
     },
     "execution_count": 31,
     "metadata": {},
     "output_type": "execute_result"
    }
   ],
   "source": [
    "model.fit(X_train, y_train)"
   ]
  },
  {
   "cell_type": "code",
   "execution_count": 32,
   "id": "696a3be5",
   "metadata": {},
   "outputs": [
    {
     "name": "stdout",
     "output_type": "stream",
     "text": [
      "[ 9000000 10000000 12000000 12000000 10000000  9000000 10000000 12000000\n",
      " 10000000 12000000 10000000 12000000 10000000 12000000 10000000 12000000\n",
      " 12000000 12000000 10000000 12000000 12000000 10000000 12000000 12000000\n",
      " 10000000 12000000 10000000 12000000 10000000 10000000 12000000 10000000\n",
      " 10000000 12000000 10000000 10000000 10000000 12000000 12000000 10000000\n",
      " 12000000 10000000 11000000 10000000 12000000 10000000  9000000 15000000\n",
      " 12000000 12000000 10000000 10000000 10000000 12000000 10000000 10000000\n",
      " 12000000 12000000]\n"
     ]
    }
   ],
   "source": [
    "y_prediction = model.predict(X_test)\n",
    "print(y_prediction)"
   ]
  },
  {
   "cell_type": "code",
   "execution_count": 35,
   "id": "ff7aebd2",
   "metadata": {},
   "outputs": [
    {
     "name": "stdout",
     "output_type": "stream",
     "text": [
      "모델의 정확도: 31.0345%\n"
     ]
    }
   ],
   "source": [
    "from sklearn import metrics\n",
    "\n",
    "accuracy = metrics.accuracy_score(\n",
    "    y_pred = y_prediction, y_true=y_test)\n",
    "\n",
    "print(f'모델의 정확도: {accuracy * 100:.4f}%')"
   ]
  },
  {
   "cell_type": "code",
   "execution_count": null,
   "id": "3672a769",
   "metadata": {},
   "outputs": [],
   "source": [
    "precision, recall, fscore, _ = \\\n",
    "    metrics.precision_recall_fscore_support(\n",
    "        #[Noen, 'micro','macro',''weighted],''samples)\n",
    "    y_pred= y_prediction, y_true = y_test. average = 'micro'\n",
    ")\n",
    "print(f'정밀도: {precision:.4f}\\n'+\n",
    "     f'재현률: {recall:.4f})"
   ]
  },
  {
   "cell_type": "code",
   "execution_count": 36,
   "id": "33428fab",
   "metadata": {},
   "outputs": [
    {
     "name": "stdout",
     "output_type": "stream",
     "text": [
      "PRE_RT: -0.13124426326887353\n",
      "L22002000: -4.124714899459658e-05\n",
      "L22001800: -1.1420019144677501e-05\n",
      "L00080002: 4.4213363698875594e-05\n"
     ]
    }
   ],
   "source": [
    "coef_list = [f'{feature}: {coef}'\n",
    "    for coef, feature in sorted(\n",
    "        zip(\n",
    "            model.coef_[0],\n",
    "            X_train.columns.values.tolist()\n",
    "         )\n",
    "    )\n",
    "\n",
    "]\n",
    "# y= ax+b\n",
    "# a0 * PRE_RT = a1 * L22002000 + a2 * L22001800 + a3 * L0080002\n",
    "for item in coef_list:\n",
    "    print(item)"
   ]
  },
  {
   "cell_type": "code",
   "execution_count": null,
   "id": "9de720a7",
   "metadata": {},
   "outputs": [],
   "source": []
  },
  {
   "cell_type": "code",
   "execution_count": null,
   "id": "218911e9",
   "metadata": {},
   "outputs": [],
   "source": []
  },
  {
   "cell_type": "code",
   "execution_count": null,
   "id": "820b294b",
   "metadata": {},
   "outputs": [],
   "source": []
  },
  {
   "cell_type": "code",
   "execution_count": 11,
   "id": "2f88b674",
   "metadata": {},
   "outputs": [
    {
     "name": "stdout",
     "output_type": "stream",
     "text": [
      "0      12000000\n",
      "1      13000000\n",
      "2       9000000\n",
      "3      11000000\n",
      "4      13000000\n",
      "         ...   \n",
      "284    10000000\n",
      "285     7000000\n",
      "286    10000000\n",
      "287    11000000\n",
      "288     9000000\n",
      "Name: PRE_LMT, Length: 289, dtype: int64\n"
     ]
    }
   ],
   "source": []
  },
  {
   "cell_type": "code",
   "execution_count": 17,
   "id": "f00dd21c",
   "metadata": {},
   "outputs": [
    {
     "name": "stdout",
     "output_type": "stream",
     "text": [
      "     PRE_RT  L00080002  L22001800  L22002000\n",
      "0      7.21          0          0          0\n",
      "1      6.21          0       7050      12397\n",
      "2      6.32       4807       9607      28792\n",
      "3      6.84      13079       4737       4737\n",
      "4      6.24      23013          0          0\n",
      "..      ...        ...        ...        ...\n",
      "284    6.87          0       2992       2992\n",
      "285    6.41          0          0          0\n",
      "286    6.36          0          0          0\n",
      "287    6.84          0          0          0\n",
      "288    7.31          0          0          0\n",
      "\n",
      "[289 rows x 4 columns]\n"
     ]
    }
   ],
   "source": []
  },
  {
   "cell_type": "code",
   "execution_count": 25,
   "id": "7f5ae0ff",
   "metadata": {},
   "outputs": [],
   "source": []
  },
  {
   "cell_type": "code",
   "execution_count": null,
   "id": "6122ecf1",
   "metadata": {},
   "outputs": [],
   "source": []
  },
  {
   "cell_type": "code",
   "execution_count": 26,
   "id": "f3651b91",
   "metadata": {},
   "outputs": [
    {
     "name": "stderr",
     "output_type": "stream",
     "text": [
      "C:\\Users\\jaekk\\anaconda3\\lib\\site-packages\\sklearn\\linear_model\\_logistic.py:814: ConvergenceWarning: lbfgs failed to converge (status=1):\n",
      "STOP: TOTAL NO. of ITERATIONS REACHED LIMIT.\n",
      "\n",
      "Increase the number of iterations (max_iter) or scale the data as shown in:\n",
      "    https://scikit-learn.org/stable/modules/preprocessing.html\n",
      "Please also refer to the documentation for alternative solver options:\n",
      "    https://scikit-learn.org/stable/modules/linear_model.html#logistic-regression\n",
      "  n_iter_i = _check_optimize_result(\n"
     ]
    },
    {
     "data": {
      "text/plain": [
       "LogisticRegression(random_state=42)"
      ]
     },
     "execution_count": 26,
     "metadata": {},
     "output_type": "execute_result"
    }
   ],
   "source": []
  },
  {
   "cell_type": "code",
   "execution_count": null,
   "id": "488ca69e",
   "metadata": {},
   "outputs": [],
   "source": []
  },
  {
   "cell_type": "code",
   "execution_count": null,
   "id": "6684a0fe",
   "metadata": {},
   "outputs": [],
   "source": []
  },
  {
   "cell_type": "code",
   "execution_count": null,
   "id": "25e16ee7",
   "metadata": {},
   "outputs": [],
   "source": []
  },
  {
   "cell_type": "code",
   "execution_count": 18,
   "id": "c79be5ad",
   "metadata": {},
   "outputs": [],
   "source": []
  },
  {
   "cell_type": "code",
   "execution_count": null,
   "id": "58e0ed6b",
   "metadata": {},
   "outputs": [],
   "source": []
  },
  {
   "cell_type": "code",
   "execution_count": 20,
   "id": "967d92c0",
   "metadata": {},
   "outputs": [
    {
     "name": "stdout",
     "output_type": "stream",
     "text": [
      "X_train shape: (231, 4)\n",
      "X_test shape: (58, 4)\n",
      "y_train shape: (231,)\n",
      "y_test shape: (58,)\n"
     ]
    }
   ],
   "source": []
  },
  {
   "cell_type": "code",
   "execution_count": 22,
   "id": "c6c138f2",
   "metadata": {},
   "outputs": [],
   "source": []
  },
  {
   "cell_type": "code",
   "execution_count": 23,
   "id": "2979969a",
   "metadata": {},
   "outputs": [
    {
     "ename": "NotFittedError",
     "evalue": "This LogisticRegression instance is not fitted yet. Call 'fit' with appropriate arguments before using this estimator.",
     "output_type": "error",
     "traceback": [
      "\u001b[1;31m---------------------------------------------------------------------------\u001b[0m",
      "\u001b[1;31mNotFittedError\u001b[0m                            Traceback (most recent call last)",
      "\u001b[1;32m~\\AppData\\Local\\Temp\\ipykernel_17848\\1509383692.py\u001b[0m in \u001b[0;36m<module>\u001b[1;34m\u001b[0m\n\u001b[1;32m----> 1\u001b[1;33m \u001b[0my_prediction\u001b[0m \u001b[1;33m=\u001b[0m \u001b[0mmodel\u001b[0m\u001b[1;33m.\u001b[0m\u001b[0mpredict\u001b[0m\u001b[1;33m(\u001b[0m\u001b[0mX_test\u001b[0m\u001b[1;33m)\u001b[0m\u001b[1;33m\u001b[0m\u001b[1;33m\u001b[0m\u001b[0m\n\u001b[0m\u001b[0;32m      2\u001b[0m \u001b[0mprint\u001b[0m\u001b[1;33m(\u001b[0m\u001b[0my_prediction\u001b[0m\u001b[1;33m)\u001b[0m\u001b[1;33m\u001b[0m\u001b[1;33m\u001b[0m\u001b[0m\n",
      "\u001b[1;32m~\\anaconda3\\lib\\site-packages\\sklearn\\linear_model\\_base.py\u001b[0m in \u001b[0;36mpredict\u001b[1;34m(self, X)\u001b[0m\n\u001b[0;32m    423\u001b[0m             \u001b[0mVector\u001b[0m \u001b[0mcontaining\u001b[0m \u001b[0mthe\u001b[0m \u001b[1;32mclass\u001b[0m \u001b[0mlabels\u001b[0m \u001b[1;32mfor\u001b[0m \u001b[0meach\u001b[0m \u001b[0msample\u001b[0m\u001b[1;33m.\u001b[0m\u001b[1;33m\u001b[0m\u001b[1;33m\u001b[0m\u001b[0m\n\u001b[0;32m    424\u001b[0m         \"\"\"\n\u001b[1;32m--> 425\u001b[1;33m         \u001b[0mscores\u001b[0m \u001b[1;33m=\u001b[0m \u001b[0mself\u001b[0m\u001b[1;33m.\u001b[0m\u001b[0mdecision_function\u001b[0m\u001b[1;33m(\u001b[0m\u001b[0mX\u001b[0m\u001b[1;33m)\u001b[0m\u001b[1;33m\u001b[0m\u001b[1;33m\u001b[0m\u001b[0m\n\u001b[0m\u001b[0;32m    426\u001b[0m         \u001b[1;32mif\u001b[0m \u001b[0mlen\u001b[0m\u001b[1;33m(\u001b[0m\u001b[0mscores\u001b[0m\u001b[1;33m.\u001b[0m\u001b[0mshape\u001b[0m\u001b[1;33m)\u001b[0m \u001b[1;33m==\u001b[0m \u001b[1;36m1\u001b[0m\u001b[1;33m:\u001b[0m\u001b[1;33m\u001b[0m\u001b[1;33m\u001b[0m\u001b[0m\n\u001b[0;32m    427\u001b[0m             \u001b[0mindices\u001b[0m \u001b[1;33m=\u001b[0m \u001b[1;33m(\u001b[0m\u001b[0mscores\u001b[0m \u001b[1;33m>\u001b[0m \u001b[1;36m0\u001b[0m\u001b[1;33m)\u001b[0m\u001b[1;33m.\u001b[0m\u001b[0mastype\u001b[0m\u001b[1;33m(\u001b[0m\u001b[0mint\u001b[0m\u001b[1;33m)\u001b[0m\u001b[1;33m\u001b[0m\u001b[1;33m\u001b[0m\u001b[0m\n",
      "\u001b[1;32m~\\anaconda3\\lib\\site-packages\\sklearn\\linear_model\\_base.py\u001b[0m in \u001b[0;36mdecision_function\u001b[1;34m(self, X)\u001b[0m\n\u001b[0;32m    403\u001b[0m             \u001b[0mthis\u001b[0m \u001b[1;32mclass\u001b[0m \u001b[0mwould\u001b[0m \u001b[0mbe\u001b[0m \u001b[0mpredicted\u001b[0m\u001b[1;33m.\u001b[0m\u001b[1;33m\u001b[0m\u001b[1;33m\u001b[0m\u001b[0m\n\u001b[0;32m    404\u001b[0m         \"\"\"\n\u001b[1;32m--> 405\u001b[1;33m         \u001b[0mcheck_is_fitted\u001b[0m\u001b[1;33m(\u001b[0m\u001b[0mself\u001b[0m\u001b[1;33m)\u001b[0m\u001b[1;33m\u001b[0m\u001b[1;33m\u001b[0m\u001b[0m\n\u001b[0m\u001b[0;32m    406\u001b[0m \u001b[1;33m\u001b[0m\u001b[0m\n\u001b[0;32m    407\u001b[0m         \u001b[0mX\u001b[0m \u001b[1;33m=\u001b[0m \u001b[0mself\u001b[0m\u001b[1;33m.\u001b[0m\u001b[0m_validate_data\u001b[0m\u001b[1;33m(\u001b[0m\u001b[0mX\u001b[0m\u001b[1;33m,\u001b[0m \u001b[0maccept_sparse\u001b[0m\u001b[1;33m=\u001b[0m\u001b[1;34m\"csr\"\u001b[0m\u001b[1;33m,\u001b[0m \u001b[0mreset\u001b[0m\u001b[1;33m=\u001b[0m\u001b[1;32mFalse\u001b[0m\u001b[1;33m)\u001b[0m\u001b[1;33m\u001b[0m\u001b[1;33m\u001b[0m\u001b[0m\n",
      "\u001b[1;32m~\\anaconda3\\lib\\site-packages\\sklearn\\utils\\validation.py\u001b[0m in \u001b[0;36mcheck_is_fitted\u001b[1;34m(estimator, attributes, msg, all_or_any)\u001b[0m\n\u001b[0;32m   1220\u001b[0m \u001b[1;33m\u001b[0m\u001b[0m\n\u001b[0;32m   1221\u001b[0m     \u001b[1;32mif\u001b[0m \u001b[1;32mnot\u001b[0m \u001b[0mfitted\u001b[0m\u001b[1;33m:\u001b[0m\u001b[1;33m\u001b[0m\u001b[1;33m\u001b[0m\u001b[0m\n\u001b[1;32m-> 1222\u001b[1;33m         \u001b[1;32mraise\u001b[0m \u001b[0mNotFittedError\u001b[0m\u001b[1;33m(\u001b[0m\u001b[0mmsg\u001b[0m \u001b[1;33m%\u001b[0m \u001b[1;33m{\u001b[0m\u001b[1;34m\"name\"\u001b[0m\u001b[1;33m:\u001b[0m \u001b[0mtype\u001b[0m\u001b[1;33m(\u001b[0m\u001b[0mestimator\u001b[0m\u001b[1;33m)\u001b[0m\u001b[1;33m.\u001b[0m\u001b[0m__name__\u001b[0m\u001b[1;33m}\u001b[0m\u001b[1;33m)\u001b[0m\u001b[1;33m\u001b[0m\u001b[1;33m\u001b[0m\u001b[0m\n\u001b[0m\u001b[0;32m   1223\u001b[0m \u001b[1;33m\u001b[0m\u001b[0m\n\u001b[0;32m   1224\u001b[0m \u001b[1;33m\u001b[0m\u001b[0m\n",
      "\u001b[1;31mNotFittedError\u001b[0m: This LogisticRegression instance is not fitted yet. Call 'fit' with appropriate arguments before using this estimator."
     ]
    }
   ],
   "source": []
  },
  {
   "cell_type": "code",
   "execution_count": null,
   "id": "f4bb4708",
   "metadata": {},
   "outputs": [],
   "source": []
  },
  {
   "cell_type": "code",
   "execution_count": null,
   "id": "c6131b15",
   "metadata": {},
   "outputs": [],
   "source": []
  },
  {
   "cell_type": "code",
   "execution_count": null,
   "id": "af864173",
   "metadata": {},
   "outputs": [],
   "source": []
  },
  {
   "cell_type": "code",
   "execution_count": null,
   "id": "5efe46a9",
   "metadata": {},
   "outputs": [],
   "source": []
  },
  {
   "cell_type": "code",
   "execution_count": null,
   "id": "abadc8eb",
   "metadata": {},
   "outputs": [],
   "source": []
  },
  {
   "cell_type": "code",
   "execution_count": null,
   "id": "8e059975",
   "metadata": {},
   "outputs": [],
   "source": []
  },
  {
   "cell_type": "code",
   "execution_count": null,
   "id": "c0a8cd08",
   "metadata": {},
   "outputs": [],
   "source": []
  },
  {
   "cell_type": "code",
   "execution_count": null,
   "id": "45a186c4",
   "metadata": {},
   "outputs": [],
   "source": []
  },
  {
   "cell_type": "code",
   "execution_count": null,
   "id": "c5c578ca",
   "metadata": {},
   "outputs": [],
   "source": []
  },
  {
   "cell_type": "code",
   "execution_count": null,
   "id": "945b1677",
   "metadata": {},
   "outputs": [],
   "source": []
  },
  {
   "cell_type": "code",
   "execution_count": null,
   "id": "a8268e5d",
   "metadata": {},
   "outputs": [],
   "source": []
  },
  {
   "cell_type": "code",
   "execution_count": null,
   "id": "1a9eb256",
   "metadata": {},
   "outputs": [],
   "source": []
  },
  {
   "cell_type": "code",
   "execution_count": null,
   "id": "fce6a5e9",
   "metadata": {},
   "outputs": [],
   "source": []
  },
  {
   "cell_type": "code",
   "execution_count": null,
   "id": "992dd591",
   "metadata": {},
   "outputs": [],
   "source": []
  }
 ],
 "metadata": {
  "kernelspec": {
   "display_name": "Python 3 (ipykernel)",
   "language": "python",
   "name": "python3"
  },
  "language_info": {
   "codemirror_mode": {
    "name": "ipython",
    "version": 3
   },
   "file_extension": ".py",
   "mimetype": "text/x-python",
   "name": "python",
   "nbconvert_exporter": "python",
   "pygments_lexer": "ipython3",
   "version": "3.9.13"
  }
 },
 "nbformat": 4,
 "nbformat_minor": 5
}
