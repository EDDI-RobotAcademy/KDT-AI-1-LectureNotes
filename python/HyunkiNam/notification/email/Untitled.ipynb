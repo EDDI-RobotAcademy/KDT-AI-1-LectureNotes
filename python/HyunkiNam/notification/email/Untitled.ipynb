{
 "cells": [
  {
   "cell_type": "code",
   "execution_count": 5,
   "id": "b531408f",
   "metadata": {},
   "outputs": [],
   "source": [
    "import pickle\n",
    "\n",
    "\n",
    "NAVER_USER_DATA_SAVED_FILE = \"../../naver/account\"\n",
    "\n",
    "naver_user_info = dict({\n",
    "    \"smtp_user_id\": \"이메일\",\n",
    "    \"smtp_user_pw\": \"비밀번호\"\n",
    "})\n",
    "\n",
    "f = open(NAVER_USER_DATA_SAVED_FILE, \"wb\")\n",
    "pickle.dump(naver_user_info, f)\n",
    "f.close()"
   ]
  },
  {
   "cell_type": "code",
   "execution_count": null,
   "id": "430f4d24",
   "metadata": {},
   "outputs": [],
   "source": []
  },
  {
   "cell_type": "code",
   "execution_count": null,
   "id": "cc510fbd",
   "metadata": {},
   "outputs": [],
   "source": []
  }
 ],
 "metadata": {
  "kernelspec": {
   "display_name": "Python 3 (ipykernel)",
   "language": "python",
   "name": "python3"
  },
  "language_info": {
   "codemirror_mode": {
    "name": "ipython",
    "version": 3
   },
   "file_extension": ".py",
   "mimetype": "text/x-python",
   "name": "python",
   "nbconvert_exporter": "python",
   "pygments_lexer": "ipython3",
   "version": "3.10.9"
  }
 },
 "nbformat": 4,
 "nbformat_minor": 5
}
