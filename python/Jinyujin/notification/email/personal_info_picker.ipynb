{
 "cells": [
  {
   "cell_type": "code",
   "execution_count": 10,
   "id": "999e8599",
   "metadata": {},
   "outputs": [],
   "source": [
    "import pickle\n",
    "# pickle: 텍스트 이외의 자료형을 파일로 저장하기 위해 사용\n",
    "# 이것 또한 파이썬 파일이기 때문에 텍스트 파일 아니므로 pickle을 사용해 주는 것\n",
    "\n",
    "NAVER_USER_DATA_SAVED_FILE = \"../../naver/account\"\n",
    "# 이 위치에 저장되도록\n",
    "\n",
    "naver_user_info = dict({\n",
    "    \"smtp_user_id\": \"아이디@naver.com\",\n",
    "    \"smtp_user_pw\": \"비밀번호\",\n",
    "})\n",
    "\n",
    "f = open(NAVER_USER_DATA_SAVED_FILE, 'wb')\n",
    "pickle.dump(naver_user_info, f)\n",
    "f.close()"
   ]
  },
  {
   "cell_type": "code",
   "execution_count": null,
   "id": "c040342b",
   "metadata": {},
   "outputs": [],
   "source": []
  }
 ],
 "metadata": {
  "kernelspec": {
   "display_name": "Python 3 (ipykernel)",
   "language": "python",
   "name": "python3"
  },
  "language_info": {
   "codemirror_mode": {
    "name": "ipython",
    "version": 3
   },
   "file_extension": ".py",
   "mimetype": "text/x-python",
   "name": "python",
   "nbconvert_exporter": "python",
   "pygments_lexer": "ipython3",
   "version": "3.9.13"
  }
 },
 "nbformat": 4,
 "nbformat_minor": 5
}
